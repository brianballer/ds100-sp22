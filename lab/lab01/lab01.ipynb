{
  "cells": [
    {
      "cell_type": "code",
      "execution_count": 15,
      "metadata": {
        "deletable": false,
        "editable": false,
        "id": "-qxsV_UciKkZ",
        "outputId": "817a1ecd-6275-4520-b3b0-415b5d794474",
        "colab": {
          "base_uri": "https://localhost:8080/"
        }
      },
      "outputs": [
        {
          "output_type": "stream",
          "name": "stdout",
          "text": [
            "skipping\n"
          ]
        }
      ],
      "source": [
        "%%script echo skipping\n",
        "\n",
        "# Initialize Otter\n",
        "import otter\n",
        "grader = otter.Notebook(\"lab01.ipynb\")"
      ]
    },
    {
      "cell_type": "markdown",
      "metadata": {
        "nbgrader": {
          "grade": false,
          "grade_id": "intro",
          "locked": true,
          "schema_version": 2,
          "solution": false
        },
        "id": "G1POg2L9iKkc"
      },
      "source": [
        "# Lab 01\n",
        "\n",
        "Welcome to the first lab of Data 100! This lab is meant to help you familiarize yourself with JupyterHub, review Python and `numpy`, and introduce you to `matplotlib`, a Python visualization library. \n",
        "\n",
        "To receive credit for a lab, answer all questions correctly and submit before the deadline.\n",
        "\n",
        "**This lab is due Tuesday, January 25 at 11:59 PM.**"
      ]
    },
    {
      "cell_type": "markdown",
      "metadata": {
        "id": "lRsXZ0dWiKkf"
      },
      "source": [
        "### Lab Walk-Through\n",
        "\n",
        "In addition to the lab notebook, we have also released a prerecorded walk-through video of the lab. We encourage you to reference this video as you work through the lab. Run the cell below to display the video.\n",
        "\n",
        "Video 3: https://www.youtube.com/watch?v=66VPtNULU48&list=PLQCcNQgUcDfrhStFqvgpvLNhOS43bnSQq&index=3"
      ]
    },
    {
      "cell_type": "code",
      "execution_count": 16,
      "metadata": {
        "id": "W55NQTDQiKkg",
        "outputId": "df47b9e6-b347-43d6-ba42-bfc63af50f1c",
        "colab": {
          "base_uri": "https://localhost:8080/"
        }
      },
      "outputs": [
        {
          "output_type": "stream",
          "name": "stdout",
          "text": [
            "skipping\n"
          ]
        }
      ],
      "source": [
        "%%script echo skipping\n",
        "\n",
        "from IPython.display import YouTubeVideo\n",
        "YouTubeVideo(\"PS7lPZUnNBo\", list = 'PLQCcNQgUcDfrhStFqvgpvLNhOS43bnSQq', listType = 'playlist')\n",
        "\n"
      ]
    },
    {
      "cell_type": "markdown",
      "metadata": {
        "id": "F1fYPLUCiKkh"
      },
      "source": [
        "### Collaboration Policy\n",
        "\n",
        "Data science is a collaborative activity. While you may talk with others about the labs, we ask that you **write your solutions individually**. If you do discuss the assignments with others please **include their names** below. (That's a good way to learn your classmates' names.)"
      ]
    },
    {
      "cell_type": "markdown",
      "metadata": {
        "id": "iHZxYXjAiKkj"
      },
      "source": [
        "**Collaborators**: *list collaborators here*"
      ]
    },
    {
      "cell_type": "markdown",
      "metadata": {
        "nbgrader": {
          "grade": false,
          "grade_id": "running-a-cell",
          "locked": true,
          "schema_version": 2,
          "solution": false
        },
        "id": "2OOEUV3EiKkj"
      },
      "source": [
        "---\n",
        "## Part 1: Jupyter Tips\n"
      ]
    },
    {
      "cell_type": "markdown",
      "metadata": {
        "id": "PwWwkMM0iKkk"
      },
      "source": [
        "### Viewing Documentation\n",
        "\n",
        "To output the documentation for a function, use the `help` function."
      ]
    },
    {
      "cell_type": "code",
      "execution_count": 17,
      "metadata": {
        "ExecuteTime": {
          "end_time": "2019-01-18T23:27:51.618364Z",
          "start_time": "2019-01-18T23:27:51.596329Z"
        },
        "id": "PIHbSqY_iKkk",
        "outputId": "92f3412b-8b2a-4f4a-acc3-2c647b59374a",
        "colab": {
          "base_uri": "https://localhost:8080/"
        }
      },
      "outputs": [
        {
          "output_type": "stream",
          "name": "stdout",
          "text": [
            "Help on built-in function print in module builtins:\n",
            "\n",
            "print(...)\n",
            "    print(value, ..., sep=' ', end='\\n', file=sys.stdout, flush=False)\n",
            "    \n",
            "    Prints the values to a stream, or to sys.stdout by default.\n",
            "    Optional keyword arguments:\n",
            "    file:  a file-like object (stream); defaults to the current sys.stdout.\n",
            "    sep:   string inserted between values, default a space.\n",
            "    end:   string appended after the last value, default a newline.\n",
            "    flush: whether to forcibly flush the stream.\n",
            "\n"
          ]
        }
      ],
      "source": [
        "help(print)"
      ]
    },
    {
      "cell_type": "markdown",
      "metadata": {
        "id": "CH0LSxBAiKkl"
      },
      "source": [
        "You can also use Jupyter to view function documentation inside your notebook. The function must already be defined in the kernel for this to work.\n",
        "\n",
        "Below, click your mouse anywhere on the `print` block below and use `Shift` + `Tab` to view the function's documentation. "
      ]
    },
    {
      "cell_type": "code",
      "execution_count": 18,
      "metadata": {
        "ExecuteTime": {
          "end_time": "2019-01-18T23:27:51.642969Z",
          "start_time": "2019-01-18T23:27:51.620450Z"
        },
        "id": "xm7zvXtViKkl",
        "outputId": "404ba0de-99d3-48ba-9e03-453e3cdc98e7",
        "colab": {
          "base_uri": "https://localhost:8080/"
        }
      },
      "outputs": [
        {
          "output_type": "stream",
          "name": "stdout",
          "text": [
            "Welcome to Data 100.\n"
          ]
        }
      ],
      "source": [
        "print('Welcome to Data 100.')"
      ]
    },
    {
      "cell_type": "markdown",
      "metadata": {
        "id": "Yxi64hgHiKkm"
      },
      "source": [
        "### Importing Libraries and Magic Commands\n",
        "\n",
        "In Data 100, we will be using common Python libraries to help us process data. By convention, we import all libraries at the very top of the notebook. There are also a set of standard aliases that are used to shorten the library names. Below are some of the libraries that you may encounter throughout the course, along with their respective aliases."
      ]
    },
    {
      "cell_type": "code",
      "execution_count": 19,
      "metadata": {
        "ExecuteTime": {
          "end_time": "2019-01-18T23:27:53.746048Z",
          "start_time": "2019-01-18T23:27:51.644613Z"
        },
        "id": "DBN9pUP2iKkm"
      },
      "outputs": [],
      "source": [
        "import pandas as pd\n",
        "import numpy as np\n",
        "import matplotlib.pyplot as plt\n",
        "plt.style.use('fivethirtyeight')\n",
        "%matplotlib inline\n",
        "\n",
        "## Dal je ovo sad tu nakon Google?"
      ]
    },
    {
      "cell_type": "markdown",
      "metadata": {
        "id": "H-Lg_ji9iKkm"
      },
      "source": [
        "`%matplotlib inline` is a [Jupyter magic command](https://ipython.readthedocs.io/en/stable/interactive/magics.html) that configures the notebook so that Matplotlib displays any plots that you draw directly in the notebook rather than to a file, allowing you to view the plots upon executing your code. (Note: In practice, this is no longer necessary, but we're showing it to you now anyway.)\n",
        "\n",
        "Another useful magic command is `%%time`, which times the execution of that cell. You can use this by writing it as the first line of a cell. (Note that `%%` is used for *cell magic commands* that apply to the entire cell, whereas `%` is used for *line magic commands* that only apply to a single line.)"
      ]
    },
    {
      "cell_type": "code",
      "execution_count": 20,
      "metadata": {
        "ExecuteTime": {
          "end_time": "2019-01-18T23:27:53.755085Z",
          "start_time": "2019-01-18T23:27:53.749765Z"
        },
        "id": "2cscPYTCiKkn",
        "outputId": "fe4cdfba-42f3-4148-ee3a-7fc57e5e0565",
        "colab": {
          "base_uri": "https://localhost:8080/"
        }
      },
      "outputs": [
        {
          "output_type": "stream",
          "name": "stdout",
          "text": [
            "CPU times: user 36 µs, sys: 5 µs, total: 41 µs\n",
            "Wall time: 49.8 µs\n"
          ]
        }
      ],
      "source": [
        "%%time\n",
        "\n",
        "lst = []\n",
        "for i in range(100):\n",
        "    lst.append(i)"
      ]
    },
    {
      "cell_type": "markdown",
      "metadata": {
        "nbgrader": {
          "grade": false,
          "grade_id": "shortcuts",
          "locked": true,
          "schema_version": 2,
          "solution": false
        },
        "id": "_raucMaWiKkn"
      },
      "source": [
        "### Keyboard Shortcuts\n",
        "\n",
        "Even if you are familiar with Jupyter, we strongly encourage you to become proficient with keyboard shortcuts (this will save you time in the future). To learn about keyboard shortcuts, go to **Help --> Keyboard Shortcuts** in the menu above. \n",
        "\n",
        "Here are a few that we like:\n",
        "1. `Ctrl` + `Return` (or `Cmd` + `Return` on Mac): *Evaluate the current cell*\n",
        "1. `Shift` + `Return`: *Evaluate the current cell and move to the next*\n",
        "1. `ESC` : *command mode* (may need to press before using any of the commands below)\n",
        "1. `a` : *create a cell above*\n",
        "1. `b` : *create a cell below*\n",
        "1. `dd` : *delete a cell*\n",
        "1. `z` : *undo the last cell operation*\n",
        "1. `m` : *convert a cell to markdown*\n",
        "1. `y` : *convert a cell to code*"
      ]
    },
    {
      "cell_type": "markdown",
      "metadata": {
        "id": "tWXYSn43iKko"
      },
      "source": [
        "---\n",
        "## Part 2: Prerequisites\n",
        "\n",
        "It's time to answer some review questions. Each question has a response cell directly below it. Most response cells are followed by a test cell that runs automated tests to check your work. Please don't delete questions, response cells, or test cells. You won't get credit for your work if you do.\n",
        "\n",
        "If you have extra content in a response cell, such as an example call to a function you're implementing, that's fine. Also, feel free to add cells between the question cells and test cells (or the next cell, for questions without test cases). Any extra cells you add will be considered part of your submission. Finally, when you finish an assignment, make sure to \"restart and run all cells\" to ensure everything works properly. \n",
        "\n",
        "Note that for labs, ontime submissions that pass all the test cases will receive full credit. However for homeworks, test cells don't always confirm that your response is correct. They are meant to give you some useful feedback, but it's your responsibility to ensure your response answers the question correctly. There may be other tests that we run when scoring your notebooks. We **strongly recommend** that you check your solutions yourself rather than just relying on the test cells."
      ]
    },
    {
      "cell_type": "markdown",
      "metadata": {
        "id": "lIVLyrEUiKkp"
      },
      "source": [
        "### Python\n",
        "\n",
        "Python is the main programming language we'll use in the course. We expect that you've taken CS 61A, Data 8, or an equivalent class, so we will not be covering general Python syntax. If any of the following exercises are challenging (or if you would like to refresh your Python knowledge), please review one or more of the following materials.\n",
        "\n",
        "- **[Python Tutorial](https://docs.python.org/3.8/tutorial/)**: Introduction to Python from the creators of Python.\n",
        "- **[Composing Programs Chapter 1](http://composingprograms.com/pages/11-getting-started.html)**: This is more of a introduction to programming with Python.\n",
        "- **[Advanced Crash Course](http://cs231n.github.io/python-numpy-tutorial/)**: A fast crash course which assumes some programming background."
      ]
    },
    {
      "cell_type": "markdown",
      "metadata": {
        "id": "bO77BPSUiKkp"
      },
      "source": [
        "### NumPy\n",
        "\n",
        "NumPy is the numerical computing module introduced in Data 8, which is a prerequisite for this course. Here's a quick recap of NumPy. For more review, read the following materials.\n",
        "\n",
        "- **[NumPy Quick Start Tutorial](https://numpy.org/doc/stable/user/quickstart.html)**\n",
        "- **[DS100 NumPy Review](http://ds100.org/fa17/assets/notebooks/numpy/Numpy_Review.html)**\n",
        "- **[Stanford CS231n NumPy Tutorial](http://cs231n.github.io/python-numpy-tutorial/#numpy)**\n",
        "- **[The Data 8 Textbook Chapter on NumPy](https://www.inferentialthinking.com/chapters/05/1/Arrays)**"
      ]
    },
    {
      "cell_type": "markdown",
      "metadata": {
        "deletable": false,
        "editable": false,
        "id": "Qj0Fcp_1iKkq"
      },
      "source": [
        "### Question 1\n",
        "\n",
        "The core of NumPy is the array. Like Python lists, arrays store data; however, they store data in a more efficient manner. In many cases, this allows for faster computation and data manipulation.\n",
        "\n",
        "__numpy arrays are vectorized__\n",
        "\n",
        "In Data 8, we used `make_array` from the `datascience` module, but that's not the most typical way. Instead, use `np.array` to create an array. It takes a sequence, such as a list or range. \n",
        "\n",
        "Below, create an array `arr` containing the values 1, 2, 3, 4, and 5 (in that order).\n",
        "\n",
        "<!--\n",
        "BEGIN QUESTION\n",
        "name: q1\n",
        "points: 1\n",
        "-->"
      ]
    },
    {
      "cell_type": "code",
      "execution_count": 21,
      "metadata": {
        "ExecuteTime": {
          "end_time": "2019-01-18T23:27:53.985409Z",
          "start_time": "2019-01-18T23:27:53.949516Z"
        },
        "id": "BFl79gxDiKkq",
        "outputId": "c12c9187-e319-4231-f6e9-f8418a28dc7a",
        "colab": {
          "base_uri": "https://localhost:8080/"
        }
      },
      "outputs": [
        {
          "output_type": "execute_result",
          "data": {
            "text/plain": [
              "array([1, 2, 3, 4, 5])"
            ]
          },
          "metadata": {},
          "execution_count": 21
        }
      ],
      "source": [
        "arr = np.array([1,2,3,4,5])\n",
        "arr"
      ]
    },
    {
      "cell_type": "code",
      "execution_count": 22,
      "metadata": {
        "deletable": false,
        "editable": false,
        "id": "ua-mrJ9CiKkq",
        "outputId": "185bc17e-3907-42c1-b566-5bd74f6216d0",
        "colab": {
          "base_uri": "https://localhost:8080/"
        }
      },
      "outputs": [
        {
          "output_type": "stream",
          "name": "stdout",
          "text": [
            "skipping\n"
          ]
        }
      ],
      "source": [
        "%%script echo skipping\n",
        "grader.check(\"q1\")"
      ]
    },
    {
      "cell_type": "markdown",
      "metadata": {
        "id": "-WL0uj5ziKkr"
      },
      "source": [
        "In addition to values in the array, we can access attributes such as shape and data type. A full list of attributes can be found [here](https://docs.scipy.org/doc/numpy-1.15.0/reference/arrays.ndarray.html#array-attributes)."
      ]
    },
    {
      "cell_type": "code",
      "execution_count": 23,
      "metadata": {
        "ExecuteTime": {
          "end_time": "2019-01-18T23:27:54.069669Z",
          "start_time": "2019-01-18T23:27:54.036105Z"
        },
        "id": "ns_qRptliKkr",
        "outputId": "2236ea03-a824-499f-a1a1-aae917595f89",
        "colab": {
          "base_uri": "https://localhost:8080/"
        }
      },
      "outputs": [
        {
          "output_type": "execute_result",
          "data": {
            "text/plain": [
              "4"
            ]
          },
          "metadata": {},
          "execution_count": 23
        }
      ],
      "source": [
        "arr[3]"
      ]
    },
    {
      "cell_type": "code",
      "execution_count": 24,
      "metadata": {
        "ExecuteTime": {
          "end_time": "2019-01-18T23:27:54.099933Z",
          "start_time": "2019-01-18T23:27:54.072605Z"
        },
        "id": "rLQUpM0_iKks",
        "outputId": "3b0e7515-41c7-497e-9a4c-3d9aff08b6d3",
        "colab": {
          "base_uri": "https://localhost:8080/"
        }
      },
      "outputs": [
        {
          "output_type": "execute_result",
          "data": {
            "text/plain": [
              "array([3, 4])"
            ]
          },
          "metadata": {},
          "execution_count": 24
        }
      ],
      "source": [
        "arr[2:4]"
      ]
    },
    {
      "cell_type": "code",
      "execution_count": 25,
      "metadata": {
        "ExecuteTime": {
          "end_time": "2019-01-18T23:27:54.124874Z",
          "start_time": "2019-01-18T23:27:54.101938Z"
        },
        "id": "LggYTAFFiKks",
        "outputId": "23323f2a-8c11-4b59-b330-0c7a71742245",
        "colab": {
          "base_uri": "https://localhost:8080/"
        }
      },
      "outputs": [
        {
          "output_type": "execute_result",
          "data": {
            "text/plain": [
              "(5,)"
            ]
          },
          "metadata": {},
          "execution_count": 25
        }
      ],
      "source": [
        "arr.shape"
      ]
    },
    {
      "cell_type": "code",
      "execution_count": 26,
      "metadata": {
        "ExecuteTime": {
          "end_time": "2019-01-18T23:27:54.148914Z",
          "start_time": "2019-01-18T23:27:54.127372Z"
        },
        "scrolled": true,
        "id": "xv_EiWg7iKks",
        "outputId": "3d643c65-f872-4067-8fcd-69e7595b7822",
        "colab": {
          "base_uri": "https://localhost:8080/"
        }
      },
      "outputs": [
        {
          "output_type": "execute_result",
          "data": {
            "text/plain": [
              "dtype('int64')"
            ]
          },
          "metadata": {},
          "execution_count": 26
        }
      ],
      "source": [
        "arr.dtype"
      ]
    },
    {
      "cell_type": "markdown",
      "metadata": {
        "id": "BzGjPU_EiKkt"
      },
      "source": [
        "Arrays, unlike Python lists, cannot store items of different data types."
      ]
    },
    {
      "cell_type": "code",
      "execution_count": 27,
      "metadata": {
        "ExecuteTime": {
          "end_time": "2019-01-18T23:27:54.173873Z",
          "start_time": "2019-01-18T23:27:54.150888Z"
        },
        "id": "pahwsHbdiKkt",
        "outputId": "035f791b-9d7c-431b-c94b-b6f39b625982",
        "colab": {
          "base_uri": "https://localhost:8080/"
        }
      },
      "outputs": [
        {
          "output_type": "execute_result",
          "data": {
            "text/plain": [
              "[1, '3']"
            ]
          },
          "metadata": {},
          "execution_count": 27
        }
      ],
      "source": [
        "# A regular Python list can store items of different data types\n",
        "[1, '3']"
      ]
    },
    {
      "cell_type": "code",
      "execution_count": 28,
      "metadata": {
        "ExecuteTime": {
          "end_time": "2019-01-18T23:27:54.198281Z",
          "start_time": "2019-01-18T23:27:54.176631Z"
        },
        "id": "sK0dbDjRiKkt",
        "outputId": "782b9a73-2345-41b3-ad69-cc4dff2d4d74",
        "colab": {
          "base_uri": "https://localhost:8080/"
        }
      },
      "outputs": [
        {
          "output_type": "execute_result",
          "data": {
            "text/plain": [
              "array(['1', 'bill'], dtype='<U21')"
            ]
          },
          "metadata": {},
          "execution_count": 28
        }
      ],
      "source": [
        "# Arrays will convert everything to the same data type\n",
        "np.array([1, '3'])\n",
        "np.array([1, \"bill\"])"
      ]
    },
    {
      "cell_type": "code",
      "execution_count": 29,
      "metadata": {
        "ExecuteTime": {
          "end_time": "2019-01-18T23:27:54.227988Z",
          "start_time": "2019-01-18T23:27:54.200270Z"
        },
        "id": "HZxYXgY0iKkt",
        "outputId": "80af8b86-2708-47c9-b580-3fd4894ecf9c",
        "colab": {
          "base_uri": "https://localhost:8080/"
        }
      },
      "outputs": [
        {
          "output_type": "execute_result",
          "data": {
            "text/plain": [
              "array([5. , 8.3])"
            ]
          },
          "metadata": {},
          "execution_count": 29
        }
      ],
      "source": [
        "# Another example of array type conversion\n",
        "np.array([5, 8.3])"
      ]
    },
    {
      "cell_type": "markdown",
      "metadata": {
        "id": "UwlMjTt5iKku"
      },
      "source": [
        "Arrays are also useful in performing *vectorized operations*. Given two or more arrays of equal length, arithmetic will perform element-wise computations across the arrays. \n",
        "\n",
        "For example, observe the following:"
      ]
    },
    {
      "cell_type": "code",
      "execution_count": 30,
      "metadata": {
        "ExecuteTime": {
          "end_time": "2019-01-18T23:27:54.266157Z",
          "start_time": "2019-01-18T23:27:54.231648Z"
        },
        "id": "qX226QaYiKku",
        "outputId": "6eca25df-53d8-4fdf-a2af-e5836eacc112",
        "colab": {
          "base_uri": "https://localhost:8080/"
        }
      },
      "outputs": [
        {
          "output_type": "execute_result",
          "data": {
            "text/plain": [
              "[1, 2, 3, 4, 5, 6]"
            ]
          },
          "metadata": {},
          "execution_count": 30
        }
      ],
      "source": [
        "# Python list addition will concatenate the two lists\n",
        "[1, 2, 3] + [4, 5, 6]"
      ]
    },
    {
      "cell_type": "code",
      "execution_count": 31,
      "metadata": {
        "ExecuteTime": {
          "end_time": "2019-01-18T23:27:54.299682Z",
          "start_time": "2019-01-18T23:27:54.269136Z"
        },
        "id": "tdRS61DpiKku",
        "outputId": "18d5400d-6ada-4653-c377-a86427241cb4",
        "colab": {
          "base_uri": "https://localhost:8080/"
        }
      },
      "outputs": [
        {
          "output_type": "execute_result",
          "data": {
            "text/plain": [
              "array([5, 7, 9])"
            ]
          },
          "metadata": {},
          "execution_count": 31
        }
      ],
      "source": [
        "# NumPy array addition will add them element-wise\n",
        "np.array([1, 2, 3]) + np.array([4, 5, 6])"
      ]
    },
    {
      "cell_type": "markdown",
      "metadata": {
        "id": "05JOKO_hiKku"
      },
      "source": [
        "### Question 2"
      ]
    },
    {
      "cell_type": "markdown",
      "metadata": {
        "deletable": false,
        "editable": false,
        "id": "HJs_xfdtiKkv"
      },
      "source": [
        "#### Question 2a\n",
        "\n",
        "Write a function `summation` that evaluates the following summation for $n \\geq 1$:\n",
        "\n",
        "$$\\sum_{i=1}^{n} i^3 + 3 i^2$$\n",
        "\n",
        "**Note**: You should not use `for` loops in your solution. Check the [NumPy documentation](https://numpy.org/doc/1.19/reference/index.html). If you're stuck, try a search engine! Searching the web for examples of how to use modules is very common in data science.\n",
        "\n",
        "<!--\n",
        "BEGIN QUESTION\n",
        "name: q2a\n",
        "points: 1\n",
        "-->"
      ]
    },
    {
      "cell_type": "code",
      "source": [
        "n = 10\n",
        "ist = np.arange(1,n+1)\n",
        "\n",
        "(ist**3 + 3*ist**2).sum()\n",
        "\n",
        "np.sum(ist**3 + 3*ist**2)\n",
        "\n"
      ],
      "metadata": {
        "id": "avbtEjBpxv3T",
        "outputId": "fb826796-d39a-477d-f4d2-78e706c91321",
        "colab": {
          "base_uri": "https://localhost:8080/"
        }
      },
      "execution_count": 32,
      "outputs": [
        {
          "output_type": "execute_result",
          "data": {
            "text/plain": [
              "4180"
            ]
          },
          "metadata": {},
          "execution_count": 32
        }
      ]
    },
    {
      "cell_type": "code",
      "source": [
        "## first try without vectorized numpy arrays (i.e. use a for loop)\n",
        "\n",
        "s = 0\n",
        "n = 10\n",
        "\n",
        "\n",
        "for i in range(1,n+1):\n",
        "  print(i,s)\n",
        "  s += i**3 + 3*i**2\n",
        "\n",
        "s\n"
      ],
      "metadata": {
        "id": "g8JYkMYOIcl8",
        "outputId": "13b7eeb1-448f-4763-ab92-8d32da46ea5d",
        "colab": {
          "base_uri": "https://localhost:8080/"
        }
      },
      "execution_count": 33,
      "outputs": [
        {
          "output_type": "stream",
          "name": "stdout",
          "text": [
            "1 0\n",
            "2 4\n",
            "3 24\n",
            "4 78\n",
            "5 190\n",
            "6 390\n",
            "7 714\n",
            "8 1204\n",
            "9 1908\n",
            "10 2880\n"
          ]
        },
        {
          "output_type": "execute_result",
          "data": {
            "text/plain": [
              "4180"
            ]
          },
          "metadata": {},
          "execution_count": 33
        }
      ]
    },
    {
      "cell_type": "code",
      "source": [
        "## with arrays\n",
        "n=10\n",
        "arr = np.arange(1, n+1)\n",
        "print(arr)\n",
        "print(arr**2)    ## squares each element\n",
        "print(arr + arr**2)   ##adds each element of the original array to the square of each element\n",
        "print(arr**3 + 3*arr**2)  ## gives us the value for each evaluation of the needed sum!\n",
        "\n",
        "print(np.sum(arr**3 + 3*arr**2))  ## sums the elements of the new list\n",
        "print(sum(arr**3 + 3*arr**2))     ## not sure what the difference is here between sum and np.sum\n",
        "\n",
        "\n"
      ],
      "metadata": {
        "id": "LWSl4M53Jt23",
        "outputId": "c9d2edb3-17ee-41e5-e4e3-8e53e4d04d09",
        "colab": {
          "base_uri": "https://localhost:8080/"
        }
      },
      "execution_count": 34,
      "outputs": [
        {
          "output_type": "stream",
          "name": "stdout",
          "text": [
            "[ 1  2  3  4  5  6  7  8  9 10]\n",
            "[  1   4   9  16  25  36  49  64  81 100]\n",
            "[  2   6  12  20  30  42  56  72  90 110]\n",
            "[   4   20   54  112  200  324  490  704  972 1300]\n",
            "4180\n",
            "4180\n"
          ]
        }
      ]
    },
    {
      "cell_type": "code",
      "execution_count": 35,
      "metadata": {
        "ExecuteTime": {
          "end_time": "2019-01-18T23:27:53.778780Z",
          "start_time": "2019-01-18T23:27:53.758946Z"
        },
        "id": "-rc8kpTIiKkv",
        "outputId": "26691221-4f07-4726-ef57-b493e22fd17c",
        "colab": {
          "base_uri": "https://localhost:8080/"
        }
      },
      "outputs": [
        {
          "output_type": "execute_result",
          "data": {
            "text/plain": [
              "4180"
            ]
          },
          "metadata": {},
          "execution_count": 35
        }
      ],
      "source": [
        "def summation(n):\n",
        "    \"\"\"Compute the summation i^3 + 3 * i^2 for 1 <= i <= n.\"\"\"\n",
        "    np.arange(1,n+1)\n",
        "    return sum(arr**3 + 3*arr**2)\n",
        "\n",
        "summation(10)    "
      ]
    },
    {
      "cell_type": "code",
      "execution_count": 36,
      "metadata": {
        "deletable": false,
        "editable": false,
        "id": "sdL5iEZHiKkv",
        "outputId": "0f3e7d1a-82b4-4fff-df84-8742a5fd9a6f",
        "colab": {
          "base_uri": "https://localhost:8080/"
        }
      },
      "outputs": [
        {
          "output_type": "stream",
          "name": "stdout",
          "text": [
            "skipping\n"
          ]
        }
      ],
      "source": [
        "%%script echo skipping\n",
        "grader.check(\"q2a\")"
      ]
    },
    {
      "cell_type": "code",
      "source": [],
      "metadata": {
        "id": "goCtXuXWxt1_"
      },
      "execution_count": 36,
      "outputs": []
    },
    {
      "cell_type": "markdown",
      "metadata": {
        "deletable": false,
        "editable": false,
        "id": "52-x7x6ziKkw"
      },
      "source": [
        "#### Question 2b\n",
        "\n",
        "Write a function `elementwise_array_sum` that computes the square of each value in `list_1`, the cube of each value in `list_2`, then returns a list containing the element-wise sum of these results. Assume that `list_1` and `list_2` have the same number of elements, do not use for loops.\n",
        "\n",
        "The input parameters will both be **python lists**, so you may need to convert the lists into arrays before performing your operations. The output should be a **numpy array.**\n",
        "\n",
        "Video 4: https://www.youtube.com/watch?v=FYYuFHtfMME&list=PLQCcNQgUcDfrhStFqvgpvLNhOS43bnSQq&index=4\n",
        "\n",
        "Video 5: https://www.youtube.com/watch?v=kR09cYndKzE&list=PLQCcNQgUcDfrhStFqvgpvLNhOS43bnSQq&index=5\n",
        "\n",
        "\n",
        "<!--\n",
        "BEGIN QUESTION\n",
        "name: q2b\n",
        "points: 1\n",
        "-->"
      ]
    },
    {
      "cell_type": "code",
      "execution_count": 37,
      "metadata": {
        "ExecuteTime": {
          "end_time": "2019-01-18T23:27:53.847700Z",
          "start_time": "2019-01-18T23:27:53.812524Z"
        },
        "id": "OlzKuVkFiKkw"
      },
      "outputs": [],
      "source": [
        "def elementwise_array_sum(list_1, list_2):\n",
        "    \"\"\"Compute x^2 + y^3 for each x, y in list_1, list_2. \n",
        "    \n",
        "    Assume list_1 and list_2 have the same length.\n",
        "    \n",
        "    Return a NumPy array.\n",
        "    \"\"\"\n",
        "    assert len(list_1) == len(list_2), \"both args must have the same number of elements\"\n",
        "\n",
        "    return list_1**2 + list_2**3\n",
        "    ..."
      ]
    },
    {
      "cell_type": "code",
      "source": [
        "ist1 = np.array([1,1,1,1])\n",
        "ist2 = np.array([2,2,2,2])\n",
        "\n",
        "ist2\n",
        "\n",
        "ist1**2 + ist2**3"
      ],
      "metadata": {
        "id": "BhSljvZDyrc1",
        "outputId": "1e7ac69c-9983-42ae-fc09-173a90828bca",
        "colab": {
          "base_uri": "https://localhost:8080/"
        }
      },
      "execution_count": 38,
      "outputs": [
        {
          "output_type": "execute_result",
          "data": {
            "text/plain": [
              "array([9, 9, 9, 9])"
            ]
          },
          "metadata": {},
          "execution_count": 38
        }
      ]
    },
    {
      "cell_type": "code",
      "execution_count": 39,
      "metadata": {
        "deletable": false,
        "editable": false,
        "id": "OowZ1D6yiKkw",
        "outputId": "fda42ca3-0b9e-4479-8a76-f75dcb826468",
        "colab": {
          "base_uri": "https://localhost:8080/"
        }
      },
      "outputs": [
        {
          "output_type": "stream",
          "name": "stdout",
          "text": [
            "skipping\n"
          ]
        }
      ],
      "source": [
        "%%script echo skipping\n",
        "grader.check(\"q2b\")"
      ]
    },
    {
      "cell_type": "markdown",
      "metadata": {
        "id": "cnzfdTLyiKkw"
      },
      "source": [
        "You might have been told that Python is slow, but array arithmetic is carried out very fast, even for large arrays. Below is an implementation of the above code that does not use NumPy arrays."
      ]
    },
    {
      "cell_type": "code",
      "execution_count": 40,
      "metadata": {
        "id": "q7_drbaMiKkx"
      },
      "outputs": [],
      "source": [
        "def elementwise_list_sum(list_1, list_2):\n",
        "    \"\"\"Compute x^2 + y^3 for each x, y in list_1, list_2. \n",
        "    \n",
        "    Assume list_1 and list_2 have the same length.\n",
        "    \"\"\"\n",
        "\n",
        "    return [x ** 2 + y ** 3 for x, y in zip(list_1, list_2)]"
      ]
    },
    {
      "cell_type": "markdown",
      "metadata": {
        "id": "V7eEWlxtiKkx"
      },
      "source": [
        "For ten numbers, `elementwise_list_sum` and `elementwise_array_sum` both take a similar amount of time."
      ]
    },
    {
      "cell_type": "code",
      "execution_count": 41,
      "metadata": {
        "ExecuteTime": {
          "end_time": "2019-01-18T23:27:54.532950Z",
          "start_time": "2019-01-18T23:27:54.499655Z"
        },
        "id": "50OVYaUfiKkx"
      },
      "outputs": [],
      "source": [
        "sample_list_1 = list(range(10))\n",
        "sample_array_1 = np.arange(10)"
      ]
    },
    {
      "cell_type": "code",
      "execution_count": 42,
      "metadata": {
        "ExecuteTime": {
          "end_time": "2019-01-18T23:27:54.565618Z",
          "start_time": "2019-01-18T23:27:54.537177Z"
        },
        "id": "mIZKT4yWiKky",
        "outputId": "2272d288-8f6f-43b8-eef5-d01c9d659805",
        "colab": {
          "base_uri": "https://localhost:8080/"
        }
      },
      "outputs": [
        {
          "output_type": "stream",
          "name": "stdout",
          "text": [
            "CPU times: user 32 µs, sys: 0 ns, total: 32 µs\n",
            "Wall time: 38.9 µs\n"
          ]
        },
        {
          "output_type": "execute_result",
          "data": {
            "text/plain": [
              "[0, 2, 12, 36, 80, 150, 252, 392, 576, 810]"
            ]
          },
          "metadata": {},
          "execution_count": 42
        }
      ],
      "source": [
        "%%time\n",
        "elementwise_list_sum(sample_list_1, sample_list_1)"
      ]
    },
    {
      "cell_type": "code",
      "execution_count": 43,
      "metadata": {
        "ExecuteTime": {
          "end_time": "2019-01-18T23:27:54.598741Z",
          "start_time": "2019-01-18T23:27:54.568363Z"
        },
        "id": "bCvl_vhZiKky",
        "outputId": "61613ba3-df48-41d7-eb8a-4e9d6aa5e5e0",
        "colab": {
          "base_uri": "https://localhost:8080/"
        }
      },
      "outputs": [
        {
          "output_type": "stream",
          "name": "stdout",
          "text": [
            "CPU times: user 57 µs, sys: 8 µs, total: 65 µs\n",
            "Wall time: 71 µs\n"
          ]
        },
        {
          "output_type": "execute_result",
          "data": {
            "text/plain": [
              "array([  0,   2,  12,  36,  80, 150, 252, 392, 576, 810])"
            ]
          },
          "metadata": {},
          "execution_count": 43
        }
      ],
      "source": [
        "%%time\n",
        "elementwise_array_sum(sample_array_1, sample_array_1)"
      ]
    },
    {
      "cell_type": "markdown",
      "metadata": {
        "id": "77AtEeHCiKkz"
      },
      "source": [
        "The time difference seems negligible for a list/array of size 10; depending on your setup, you may even observe that `elementwise_list_sum` executes faster than `elementwise_array_sum`! However, we will commonly be working with much larger datasets:"
      ]
    },
    {
      "cell_type": "code",
      "execution_count": 44,
      "metadata": {
        "ExecuteTime": {
          "end_time": "2019-01-18T23:27:54.639977Z",
          "start_time": "2019-01-18T23:27:54.604370Z"
        },
        "id": "ux8m70nHiKkz"
      },
      "outputs": [],
      "source": [
        "sample_list_2 = list(range(100000))\n",
        "sample_array_2 = np.arange(100000)"
      ]
    },
    {
      "cell_type": "code",
      "execution_count": 45,
      "metadata": {
        "ExecuteTime": {
          "end_time": "2019-01-18T23:27:54.822043Z",
          "start_time": "2019-01-18T23:27:54.643966Z"
        },
        "scrolled": true,
        "id": "oMyElzi8iKk0",
        "colab": {
          "base_uri": "https://localhost:8080/",
          "height": 71
        },
        "outputId": "2115f811-9884-4ff5-ad41-e9aa663aa29d"
      },
      "outputs": [
        {
          "output_type": "stream",
          "name": "stdout",
          "text": [
            "CPU times: user 69.1 ms, sys: 4.37 ms, total: 73.5 ms\n",
            "Wall time: 76.5 ms\n"
          ]
        },
        {
          "output_type": "execute_result",
          "data": {
            "text/plain": [
              "'# The semicolon hides the output'"
            ],
            "application/vnd.google.colaboratory.intrinsic+json": {
              "type": "string"
            }
          },
          "metadata": {},
          "execution_count": 45
        }
      ],
      "source": [
        "%%time\n",
        "elementwise_list_sum(sample_list_2, sample_list_2)\n",
        "; # The semicolon hides the output"
      ]
    },
    {
      "cell_type": "code",
      "execution_count": 46,
      "metadata": {
        "ExecuteTime": {
          "end_time": "2019-01-18T23:27:54.835570Z",
          "start_time": "2019-01-18T23:27:54.825798Z"
        },
        "id": "7O2p9VDJiKk0",
        "colab": {
          "base_uri": "https://localhost:8080/",
          "height": 71
        },
        "outputId": "1d713f66-6b56-4f09-f51f-59b76fe5676f"
      },
      "outputs": [
        {
          "output_type": "stream",
          "name": "stdout",
          "text": [
            "CPU times: user 3.38 ms, sys: 0 ns, total: 3.38 ms\n",
            "Wall time: 3.25 ms\n"
          ]
        },
        {
          "output_type": "execute_result",
          "data": {
            "text/plain": [
              "''"
            ],
            "application/vnd.google.colaboratory.intrinsic+json": {
              "type": "string"
            }
          },
          "metadata": {},
          "execution_count": 46
        }
      ],
      "source": [
        "%%time\n",
        "elementwise_array_sum(sample_array_2, sample_array_2)\n",
        ";"
      ]
    },
    {
      "cell_type": "markdown",
      "metadata": {
        "id": "pfWJ1FSmiKk1"
      },
      "source": [
        "With the larger dataset, we see that using NumPy results in code that executes over 50 times faster! Throughout this course (and in the real world), you will find that writing efficient code will be important; arrays and vectorized operations are the most common way of making Python programs run quickly."
      ]
    },
    {
      "cell_type": "markdown",
      "metadata": {
        "deletable": false,
        "editable": false,
        "id": "uvxe5mUjiKk1"
      },
      "source": [
        "#### Question 2c\n",
        "Recall the formula for population variance below:\n",
        "\n",
        "$$\\sigma^2 = \\frac{\\sum_{i=1}^N (x_i - \\mu)^2}{N}$$\n",
        "\n",
        "Complete the functions below to compute the population variance of `population`, an array of numbers. For this question, **do not use built in NumPy functions, such as `np.var`.** Again, avoid using `for` loops!\n",
        "\n",
        "<!--\n",
        "BEGIN QUESTION\n",
        "name: q2c\n",
        "points: 1\n",
        "-->"
      ]
    },
    {
      "cell_type": "code",
      "execution_count": 47,
      "metadata": {
        "id": "abzqIW0xiKk1"
      },
      "outputs": [],
      "source": [
        "def mean(population):\n",
        "    \"\"\"\n",
        "    Returns the mean of population (mu)\n",
        "    \n",
        "    Keyword arguments:\n",
        "    population -- a numpy array of numbers\n",
        "    \"\"\"\n",
        "    # Calculate the mean of a population\n",
        "\n",
        "    return np.sum(population)/len(population)\n",
        "    ...\n",
        "\n",
        "def variance(population):\n",
        "    \"\"\"\n",
        "    Returns the variance of population (sigma squared)\n",
        "    \n",
        "    Keyword arguments:\n",
        "    population -- a numpy array of numbers\n",
        "    \"\"\"\n",
        "    # Calculate the variance of a population\n",
        "\n",
        "    return np.sum((population - mean(population))**2)/len(population)\n",
        "    ..."
      ]
    },
    {
      "cell_type": "code",
      "source": [
        "# first working it out manualy\n",
        "ist = np.array([2,2,4,4])\n",
        "\n",
        "avg = np.sum(ist)/len(ist)\n",
        "\n",
        "print(avg)\n",
        "\n",
        "np.sum((ist-avg)**2)/len(ist)\n",
        "\n"
      ],
      "metadata": {
        "colab": {
          "base_uri": "https://localhost:8080/"
        },
        "id": "AJ3FHXgUA_xO",
        "outputId": "01b1772b-0179-4c68-90ed-d581e8c6ca38"
      },
      "execution_count": 48,
      "outputs": [
        {
          "output_type": "stream",
          "name": "stdout",
          "text": [
            "3.0\n"
          ]
        },
        {
          "output_type": "execute_result",
          "data": {
            "text/plain": [
              "1.0"
            ]
          },
          "metadata": {},
          "execution_count": 48
        }
      ]
    },
    {
      "cell_type": "code",
      "source": [
        "# calling the functions\n",
        "ist = [1,2,3,4,5,6,7,8,9,10,11,12,13]\n",
        "arr = np.array(ist)\n",
        "\n",
        "## my attempt at working to make a file in githup to pump through this function\n",
        "# bill = pd.read_csv(\"https://raw.githubusercontent.com/archenclan/dsKal100/main/lab/lab01/var_check.csv\")\n",
        "# #https://raw.githubusercontent.com/archenclan/dsKal100/main/lab/lab01/var_check.csv\n",
        "\n",
        "# bill\n",
        "# arr = bill[\"sample\"].to_numpy()\n",
        "print(arr)\n",
        "variance(arr)\n",
        "\n"
      ],
      "metadata": {
        "colab": {
          "base_uri": "https://localhost:8080/"
        },
        "id": "fSjU1N6NCWlE",
        "outputId": "e81bc2e6-7cef-450e-b31d-ac6c8aa18ee4"
      },
      "execution_count": 49,
      "outputs": [
        {
          "output_type": "stream",
          "name": "stdout",
          "text": [
            "[ 1  2  3  4  5  6  7  8  9 10 11 12 13]\n"
          ]
        },
        {
          "output_type": "execute_result",
          "data": {
            "text/plain": [
              "14.0"
            ]
          },
          "metadata": {},
          "execution_count": 49
        }
      ]
    },
    {
      "cell_type": "code",
      "execution_count": 50,
      "metadata": {
        "deletable": false,
        "editable": false,
        "id": "ovUOnZIwiKk2",
        "outputId": "1b614af9-fedc-49c7-e9db-c6bcaf85b55b",
        "colab": {
          "base_uri": "https://localhost:8080/"
        }
      },
      "outputs": [
        {
          "output_type": "stream",
          "name": "stdout",
          "text": [
            "skipping\n"
          ]
        }
      ],
      "source": [
        "%%script echo skipping\n",
        "grader.check(\"q2c\")"
      ]
    },
    {
      "cell_type": "markdown",
      "metadata": {
        "deletable": false,
        "editable": false,
        "id": "XDwlxVDSiKk2"
      },
      "source": [
        "#### Question 2d\n",
        "\n",
        "Given the array `random_arr`, assign `valid_values` to an array containing all values $x$ such that $2x^4 > 1$.\n",
        "\n",
        "**Note**: You should not use `for` loops in your solution. Instead, look at `numpy`'s documentation on [Boolean Indexing](https://numpy.org/devdocs/reference/arrays.indexing.html). \n",
        "\n",
        "<!--\n",
        "BEGIN QUESTION\n",
        "name: q2d\n",
        "points: 1\n",
        "-->"
      ]
    },
    {
      "cell_type": "code",
      "execution_count": 51,
      "metadata": {
        "ExecuteTime": {
          "end_time": "2019-01-18T23:27:54.368504Z",
          "start_time": "2019-01-18T23:27:54.331370Z"
        },
        "id": "SuulCGUliKk2",
        "colab": {
          "base_uri": "https://localhost:8080/"
        },
        "outputId": "d45529d5-4e8b-4832-c50c-3e9a874df421"
      },
      "outputs": [
        {
          "output_type": "execute_result",
          "data": {
            "text/plain": [
              "array([0.95071431, 0.86617615, 0.96990985, 0.94888554, 0.96563203,\n",
              "       0.9093204 , 0.96958463, 0.93949894, 0.89482735, 0.92187424])"
            ]
          },
          "metadata": {},
          "execution_count": 51
        }
      ],
      "source": [
        "np.random.seed(42)\n",
        "random_arr = np.random.rand(60)\n",
        "valid_values = random_arr[2*random_arr**4 > 1]\n",
        "valid_values"
      ]
    },
    {
      "cell_type": "code",
      "source": [
        "#manually working it out\n",
        "np.random.seed(42)\n",
        "random_arr = np.random.rand(10)\n",
        "print(random_arr)\n",
        "bill = 2*random_arr**4\n",
        "print(bill)\n",
        "print(bill[bill > 1])  #this is the all of the bill entries above 1\n",
        "print(random_arr[bill >1])  #this is all the random_arr entries that correspond to bill > 1"
      ],
      "metadata": {
        "colab": {
          "base_uri": "https://localhost:8080/"
        },
        "id": "VFqIxLjEIb5a",
        "outputId": "0869525e-de80-4a2b-ab66-f0c28041d24e"
      },
      "execution_count": 52,
      "outputs": [
        {
          "output_type": "stream",
          "name": "stdout",
          "text": [
            "[0.37454012 0.95071431 0.73199394 0.59865848 0.15601864 0.15599452\n",
            " 0.05808361 0.86617615 0.60111501 0.70807258]\n",
            "[3.93571255e-02 1.63391746e+00 5.74195709e-01 2.56889624e-01\n",
            " 1.18504803e-03 1.18431538e-03 2.27637844e-05 1.12578348e+00\n",
            " 2.61132118e-01 5.02737287e-01]\n",
            "[1.63391746 1.12578348]\n",
            "[0.95071431 0.86617615]\n"
          ]
        }
      ]
    },
    {
      "cell_type": "code",
      "execution_count": 53,
      "metadata": {
        "deletable": false,
        "editable": false,
        "id": "-FugPYTniKk3",
        "outputId": "79a5ee41-6dd8-4a29-8809-6f8ed938d1e2",
        "colab": {
          "base_uri": "https://localhost:8080/"
        }
      },
      "outputs": [
        {
          "output_type": "stream",
          "name": "stdout",
          "text": [
            "skipping\n"
          ]
        }
      ],
      "source": [
        "%%script echo skipping\n",
        "\n",
        "grader.check(\"q2d\")"
      ]
    },
    {
      "cell_type": "markdown",
      "metadata": {
        "id": "a-O9QN5ZiKk3"
      },
      "source": [
        "---\n",
        "## Part 3: Plotting\n",
        "Here we explore plotting using `matplotlib` and `numpy`."
      ]
    },
    {
      "cell_type": "markdown",
      "metadata": {
        "deletable": false,
        "editable": false,
        "id": "1_7krCNWiKk3"
      },
      "source": [
        "### Question 3 ###\n",
        "\n",
        "\n",
        "Consider the function $f(x) = x^2$ for $-\\infty < x < \\infty$.\n",
        "\n",
        "#### Question 3a ####\n",
        "Find the equation of the tangent line to $f$ at $x = 0$.\n",
        "\n",
        "Use LaTeX to type your solution, such that it looks like the serif font used to display the math expressions in the sentences above.\n",
        "\n",
        "**HINT**: You can click any text cell to see the raw Markdown syntax. \n",
        "\n",
        "<!--\n",
        "BEGIN QUESTION\n",
        "name: q3a\n",
        "-->"
      ]
    },
    {
      "cell_type": "markdown",
      "metadata": {
        "id": "6q46u7AliKk3"
      },
      "source": [
        "_Type your answer here, replacing this text._\n",
        "\n",
        "$$f'(x) = 2x$$\n",
        "\n",
        "therefore:\n",
        "\n",
        "$$y = mx + b = 0x + 0 = 0$$"
      ]
    },
    {
      "cell_type": "markdown",
      "metadata": {
        "deletable": false,
        "editable": false,
        "id": "FN6n-11DiKk4"
      },
      "source": [
        "#### Question 3b ####\n",
        "Find the equation of the tangent line to $f$ at $x = 8$. Please use LaTeX to type your solution.\n",
        "\n",
        "<!--\n",
        "BEGIN QUESTION\n",
        "name: q3b\n",
        "-->"
      ]
    },
    {
      "cell_type": "markdown",
      "metadata": {
        "id": "rX_XdWQOiKk4"
      },
      "source": [
        "_Type your answer here, replacing this text._\n",
        "\n",
        "The slope of the tangent at _x_ = 8 is equal to the first derivative:\n",
        "\n",
        "$$m = f'(x) = f'(8) = 2(8) = 16$$\n",
        "\n",
        "The _y-intercept_ is the _y_ value at _x_ = 0:\n",
        "\n",
        "$$16 = \\frac{y_2-y_1}{x_2-x_1} = \\frac{8^2 - b}{8-0}$$\n",
        "\n",
        "$$b = 8^2 - 8(16) = -64$$\n",
        "\n",
        "$$\\therefore y = 16x - 64$$"
      ]
    },
    {
      "cell_type": "markdown",
      "metadata": {
        "deletable": false,
        "editable": false,
        "id": "38FlR1I2iKk4"
      },
      "source": [
        "#### Question 3c #### \n",
        "\n",
        "Write code to plot the function $f$, the tangent line at $x=8$, and the tangent line at $x=0$. \n",
        "\n",
        "Set the range of the x-axis to (-15, 15) and the range of the y-axis to (-100, 300) and the figure size to (4,4).\n",
        "\n",
        "Your resulting plot should look like this (it's okay if the colors in your plot don't match with ours, as long as they're all different colors):\n",
        "\n",
        "<img src=\"https://github.com/archenclan/dsKal100/blob/main/lab/lab01/derivative.png?raw=1\" align=\"center\"/>\n",
        "\n",
        "You should use the `plt.plot` function to plot lines. You may find the following functions useful:\n",
        "\n",
        "- [`plt.plot(..)`](https://matplotlib.org/stable/api/_as_gen/matplotlib.pyplot.plot.html)\n",
        "- [`plt.figure(figsize=..)`](https://stackoverflow.com/questions/332289/how-do-you-change-the-size-of-figures-drawn-with-matplotlib)\n",
        "- [`plt.ylim(..)`](https://matplotlib.org/stable/api/_as_gen/matplotlib.pyplot.ylim.html)\n",
        "- [`plt.axhline(..)`](https://matplotlib.org/stable/api/_as_gen/matplotlib.pyplot.axhline.html)\n",
        "\n",
        "<!--\n",
        "BEGIN QUESTION\n",
        "name: q3c\n",
        "-->"
      ]
    },
    {
      "cell_type": "code",
      "execution_count": null,
      "metadata": {
        "id": "FBKqgm9TiKk4"
      },
      "outputs": [],
      "source": [
        "def f(x):\n",
        "    ...\n",
        "    \n",
        "def df(x):\n",
        "    ...\n",
        "\n",
        "def plot(f, df):              \n",
        "    ...\n",
        "\n",
        "plot(f, df)"
      ]
    },
    {
      "cell_type": "markdown",
      "metadata": {
        "deletable": false,
        "editable": false,
        "id": "NlrQ9bjyiKk5"
      },
      "source": [
        "### Question 4 (Ungraded) ##\n",
        "\n",
        "Data science is a rapidly expanding field and no degree program can hope to teach you everything that will be helpful to you as a data scientist. So it's important that you become familiar with looking up documentation and learning how to read it. \n",
        "\n",
        "Below is a section of code that plots a three-dimensional \"wireframe\" plot. You'll see what that means when you draw it. Replace each `# Your answer here` with a description of what the line above does, what the arguments being passed in are, and how the arguments are used in the function. For example,\n",
        "\n",
        "```\n",
        "np.arange(2, 5, 0.2)\n",
        "# This returns an array of numbers from 2 to 5 with an interval size of 0.2\n",
        "```\n",
        "\n",
        "**Hint:** The `Shift` + `Tab` tip from earlier in the notebook may help here. Remember that objects must be defined in order for the documentation shortcut to work; for example, all of the documentation will show for method calls from `np` since we've already executed `import numpy as np`. However, since `z` is not yet defined in the kernel, `z.reshape(x.shape)` will not show documentation until you run the line `z = np.cos(squared)`.\n",
        "\n",
        "<!--\n",
        "BEGIN QUESTION\n",
        "name: q4\n",
        "-->"
      ]
    },
    {
      "cell_type": "code",
      "execution_count": 83,
      "metadata": {
        "scrolled": true,
        "id": "uf3vsponiKk5",
        "outputId": "99c0b652-f647-45b3-dd35-8a43f6c0997d",
        "colab": {
          "base_uri": "https://localhost:8080/"
        }
      },
      "outputs": [
        {
          "output_type": "execute_result",
          "data": {
            "text/plain": [
              "(4, 10)"
            ]
          },
          "metadata": {},
          "execution_count": 83
        }
      ],
      "source": [
        "from mpl_toolkits.mplot3d import axes3d\n",
        "\n",
        "u = np.linspace(1.5 * np.pi, -1.5 * np.pi, 100)\n",
        "# generates a array of 100 numbers from 1.5*3.14 to -1.5*3.14, inclusive\n",
        "u\n",
        "x1 = np.linspace(1,10, num=10)\n",
        "x2 = np.linspace(21,24, num = 4)\n",
        "x1\n",
        "x, y = np.meshgrid(x1, x2)\n",
        "x\n",
        "y\n",
        "\n",
        "# returns two matrices, x with len(x2) rows of x1 array, y with len(x1) columns of x2 array\n",
        "\n",
        "[x, y] = np.meshgrid(u, u)\n",
        "\n",
        "squared = np.sqrt(x.flatten() ** 2 + y.flatten() ** 2)\n",
        "# flatten takes matrix and binds rows together end to end into one array\n",
        "\n",
        "z = np.cos(squared)\n",
        "# returns an array of the cosines of each squared element\n",
        "z = z.reshape(x.shape) #x shape is 4 rows and 10 cols\n",
        "# shapes the z array into a matrix of 10 columns and 4 rows\n",
        "\n",
        "fig = plt.figure(figsize = (6, 6))\n",
        "ax = fig.add_subplot(111, projection = '3d')\n",
        "# Your answer here\n",
        "ax.plot_wireframe(x, y, z, rstride = 5, cstride = 5, lw = 2)\n",
        "# Your answer here\n",
        "ax.view_init(elev = 60, azim = 25)\n",
        "# Your answer here\n",
        "plt.savefig(\"figure1.png\")\n",
        "# Your answer here"
      ]
    },
    {
      "cell_type": "code",
      "source": [
        "x1 = np.linspace(1,10, num=10)\n",
        "x2 = np.linspace(21,24, num = 4)\n",
        "x1\n",
        "x, y = np.meshgrid(x1, x2)\n",
        "x\n",
        "y\n"
      ],
      "metadata": {
        "id": "Qr8hmzy9kyY7",
        "outputId": "d4f7c577-8d09-443d-b44c-d6cb81a11135",
        "colab": {
          "base_uri": "https://localhost:8080/"
        }
      },
      "execution_count": 66,
      "outputs": [
        {
          "output_type": "execute_result",
          "data": {
            "text/plain": [
              "array([[21., 21., 21., 21., 21., 21., 21., 21., 21., 21.],\n",
              "       [22., 22., 22., 22., 22., 22., 22., 22., 22., 22.],\n",
              "       [23., 23., 23., 23., 23., 23., 23., 23., 23., 23.],\n",
              "       [24., 24., 24., 24., 24., 24., 24., 24., 24., 24.]])"
            ]
          },
          "metadata": {},
          "execution_count": 66
        }
      ]
    },
    {
      "cell_type": "markdown",
      "metadata": {
        "nbgrader": {
          "grade": false,
          "grade_id": "q3",
          "locked": true,
          "schema_version": 2,
          "solution": false
        },
        "id": "HYQWG8qSiKk6"
      },
      "source": [
        "### Question 5 (Ungraded)\n",
        "\n",
        "Do you think that eating french fries with mayonnaise is a crime?  \n",
        "Tell us what you think in the following Markdown cell. :)"
      ]
    },
    {
      "cell_type": "markdown",
      "metadata": {
        "nbgrader": {
          "grade": true,
          "grade_id": "q3-answer",
          "locked": false,
          "points": 0,
          "schema_version": 2,
          "solution": true
        },
        "id": "CKzFuAw5iKk6"
      },
      "source": []
    },
    {
      "cell_type": "markdown",
      "metadata": {
        "deletable": false,
        "editable": false,
        "id": "pU7LQaajiKk6"
      },
      "source": [
        "---\n",
        "\n",
        "To double-check your work, the cell below will rerun all of the autograder tests."
      ]
    },
    {
      "cell_type": "code",
      "execution_count": null,
      "metadata": {
        "deletable": false,
        "editable": false,
        "id": "VEwHGeW5iKk6"
      },
      "outputs": [],
      "source": [
        "grader.check_all()"
      ]
    },
    {
      "cell_type": "markdown",
      "metadata": {
        "deletable": false,
        "editable": false,
        "id": "qoxCVfYZiKk7"
      },
      "source": [
        "## Submission\n",
        "\n",
        "Make sure you have run all cells in your notebook in order before running the cell below, so that all images/graphs appear in the output. The cell below will generate a zip file for you to submit. **Please save before exporting!**"
      ]
    },
    {
      "cell_type": "code",
      "execution_count": null,
      "metadata": {
        "deletable": false,
        "editable": false,
        "id": "1RO3JpsCiKk7"
      },
      "outputs": [],
      "source": [
        "# Save your notebook first, then run this cell to export your submission.\n",
        "grader.export(pdf=False)"
      ]
    },
    {
      "cell_type": "markdown",
      "metadata": {
        "id": "-i-xvrBRiKk7"
      },
      "source": [
        " "
      ]
    }
  ],
  "metadata": {
    "celltoolbar": "Create Assignment",
    "kernelspec": {
      "display_name": "Python 3 (ipykernel)",
      "language": "python",
      "name": "python3"
    },
    "language_info": {
      "codemirror_mode": {
        "name": "ipython",
        "version": 3
      },
      "file_extension": ".py",
      "mimetype": "text/x-python",
      "name": "python",
      "nbconvert_exporter": "python",
      "pygments_lexer": "ipython3",
      "version": "3.9.9"
    },
    "toc": {
      "colors": {
        "hover_highlight": "#DAA520",
        "running_highlight": "#FF0000",
        "selected_highlight": "#FFD700"
      },
      "moveMenuLeft": true,
      "nav_menu": {
        "height": "156px",
        "width": "252px"
      },
      "navigate_menu": true,
      "number_sections": true,
      "sideBar": true,
      "threshold": 4,
      "toc_cell": true,
      "toc_section_display": "block",
      "toc_window_display": true
    },
    "colab": {
      "provenance": [],
      "toc_visible": true
    }
  },
  "nbformat": 4,
  "nbformat_minor": 0
}